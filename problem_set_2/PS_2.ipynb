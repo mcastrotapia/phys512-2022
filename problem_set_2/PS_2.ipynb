{
 "cells": [
  {
   "cell_type": "code",
   "execution_count": 2,
   "id": "76194d0b",
   "metadata": {},
   "outputs": [],
   "source": [
    "import numpy as np\n",
    "import matplotlib.pyplot as plt\n",
    "from scipy.integrate import quad"
   ]
  },
  {
   "cell_type": "markdown",
   "id": "e083514a",
   "metadata": {},
   "source": [
    "# Problem 1"
   ]
  },
  {
   "cell_type": "markdown",
   "id": "e109fe52",
   "metadata": {},
   "source": [
    "If we consider the differential charge as $dq=\\sigma R^{2} \\sin{\\theta}d\\theta d\\phi$ and the absolute square distance as $r^{2}=R^{2}+z^{2}-2Rz\\cos{\\theta}$ because we are calculating the electric field along the direction $\\hat{z}$, we can set up the following integral for obtain $E_{z}$:\n",
    "\n",
    "$$E_{z}=\\frac{1}{4\\pi \\epsilon_{0}}\\int_{0}^{\\pi} \\frac{\\sigma R^{2}\\sin{\\theta}d\\theta d\\phi(z-R\\cos{\\theta})}{(R^{2}+z^{2}-2Rz\\cos{\\theta}))^{3/2}} $$\n",
    "\n",
    "Then, the integral of $\\phi$ is equal to $2\\pi$ and we can use the following change of variable $u=\\cos{\\theta}$; $du=-\\sin{\\theta}d\\theta$. And the new expression is:\n",
    "\n",
    "$$E_{z}=\\frac{1}{2 \\epsilon_{0}}\\int_{-1}^{1} \\frac{\\sigma R^{2} (z-Ru)du}{(R^{2}+z^{2}-2Rzu)^{3/2}} $$"
   ]
  },
  {
   "cell_type": "markdown",
   "id": "98eb13b0",
   "metadata": {},
   "source": [
    "Let's define $R=2$ $\\sigma=1$, and $\\epsilon_{0}=1$ for simplicity"
   ]
  },
  {
   "cell_type": "code",
   "execution_count": 3,
   "id": "903239c5",
   "metadata": {},
   "outputs": [],
   "source": [
    "R=2\n",
    "sigma=1\n",
    "e0=1"
   ]
  },
  {
   "cell_type": "markdown",
   "id": "a0f7a072",
   "metadata": {},
   "source": [
    "Defining z and u"
   ]
  },
  {
   "cell_type": "code",
   "execution_count": 4,
   "id": "485f7922",
   "metadata": {},
   "outputs": [],
   "source": [
    "z=np.linspace(0,4,501)\n",
    "u=np.linspace(-1,1,500000)"
   ]
  },
  {
   "cell_type": "markdown",
   "id": "4cb2c371",
   "metadata": {},
   "source": [
    "I used the Simpson's rule to integrate along u divided on 500000 intervals, then I did the integral 501 times for every z and I obatined $E_{z}(z)$"
   ]
  },
  {
   "cell_type": "code",
   "execution_count": 8,
   "id": "4864ea67",
   "metadata": {},
   "outputs": [],
   "source": [
    "h=(1-(-1))/len(u) #equivalen to dx\n",
    "w=h/3 # for Simpson's rule\n",
    "k=(R**2)*sigma/(2*np.pi*e0)"
   ]
  },
  {
   "cell_type": "code",
   "execution_count": 6,
   "id": "b990c583",
   "metadata": {},
   "outputs": [],
   "source": [
    "def fint(z,u):\n",
    "    return (z-R*u)/(((R**2)+(z**2)-(2*R*z*u))**(3/2))"
   ]
  },
  {
   "cell_type": "code",
   "execution_count": 7,
   "id": "aa49ca31",
   "metadata": {},
   "outputs": [
    {
     "name": "stderr",
     "output_type": "stream",
     "text": [
      "C:\\Users\\Odette\\AppData\\Local\\Temp\\ipykernel_9204\\3029293887.py:2: RuntimeWarning: invalid value encountered in double_scalars\n",
      "  return (z-R*u)/(((R**2)+(z**2)-(2*R*z*u))**(3/2))\n",
      "C:\\Users\\Odette\\AppData\\Local\\Temp\\ipykernel_9204\\3029293887.py:2: RuntimeWarning: invalid value encountered in true_divide\n",
      "  return (z-R*u)/(((R**2)+(z**2)-(2*R*z*u))**(3/2))\n"
     ]
    }
   ],
   "source": [
    "Ez=[]\n",
    "for i in z:\n",
    "    itg=(fint(i,u[0])+fint(i,u[-1])+4*sum(fint(i,u[1::2]))+2*sum(fint(i,u[2:-1:2])))*w\n",
    "    Ez.append(itg)"
   ]
  },
  {
   "cell_type": "markdown",
   "id": "2651379a",
   "metadata": {},
   "source": [
    "We can see that there is an invalid value when calculating $E_{z}$. Let's see the plot:"
   ]
  },
  {
   "cell_type": "code",
   "execution_count": 11,
   "id": "db575b11",
   "metadata": {},
   "outputs": [
    {
     "data": {
      "image/png": "[encoded data removed]",
      "text/plain": [
       "<Figure size 432x288 with 1 Axes>"
      ]
     },
     "metadata": {
      "needs_background": "light"
     },
     "output_type": "display_data"
    }
   ],
   "source": [
    "plt.plot(z,Ez)\n",
    "plt.xlabel('z')\n",
    "plt.ylabel('Ez')\n",
    "plt.show()"
   ]
  },
  {
   "cell_type": "markdown",
   "id": "032e7e6b",
   "metadata": {},
   "source": [
    "There is discontinuity at $z=R=2$. Let's try with scipy.integrate.quad"
   ]
  },
  {
   "cell_type": "code",
   "execution_count": 12,
   "id": "8c80d680",
   "metadata": {},
   "outputs": [],
   "source": [
    "Ezz=[]\n",
    "for i in z:\n",
    "    f=lambda x: fint(i,x)\n",
    "    itg=quad(f,-1,1)[0] \n",
    "    Ezz.append(itg)\n"
   ]
  },
  {
   "cell_type": "code",
   "execution_count": 22,
   "id": "b3ac88c3",
   "metadata": {},
   "outputs": [
    {
     "data": {
      "image/png": "[encoded data removed]",
      "text/plain": [
       "<Figure size 432x288 with 1 Axes>"
      ]
     },
     "metadata": {
      "needs_background": "light"
     },
     "output_type": "display_data"
    }
   ],
   "source": [
    "plt.plot(z,Ez,label='my integration')\n",
    "plt.plot(z,Ezz,'--',label='quad integration')\n",
    "plt.xlabel('z')\n",
    "plt.ylabel('Ez')\n",
    "plt.legend()\n",
    "plt.show()"
   ]
  },
  {
   "cell_type": "markdown",
   "id": "18cf9d90",
   "metadata": {},
   "source": [
    "We can see that quad defined a value for $z=2$. so I'm going to define a routine that does not evaluate the integral when $z$ is close to $2$."
   ]
  },
  {
   "cell_type": "code",
   "execution_count": 26,
   "id": "225d4e85",
   "metadata": {},
   "outputs": [],
   "source": [
    "def integration(z):\n",
    "    Ezl=[]\n",
    "    ind=[]\n",
    "    for i in range(len(z)):\n",
    "        if R-4/500<=z[i]<=R+4/500: #z[i]==R:\n",
    "            print(\"Singularity at z=R\")\n",
    "            ind.append(i)\n",
    "            continue\n",
    "        else:  \n",
    "            itg=(fint(z[i],u[0])+fint(z[i],u[-1])+4*sum(fint(z[i],u[1::2]))+2*sum(fint(z[i],u[2:-1:2])))*w\n",
    "            Ezl.append(itg)\n",
    "    print(ind)\n",
    "    return np.array(list(z[0:ind[0]])+list(z[ind[-1]+1::])),np.array(Ezl)"
   ]
  },
  {
   "cell_type": "code",
   "execution_count": 27,
   "id": "f6569770",
   "metadata": {},
   "outputs": [
    {
     "name": "stdout",
     "output_type": "stream",
     "text": [
      "Singularity at z=R\n",
      "Singularity at z=R\n",
      "Singularity at z=R\n",
      "[249, 250, 251]\n"
     ]
    }
   ],
   "source": [
    "zz,intt=integration(z)"
   ]
  },
  {
   "cell_type": "markdown",
   "id": "379e8824",
   "metadata": {},
   "source": [
    "Now my $E_{z}$ looks better."
   ]
  },
  {
   "cell_type": "code",
   "execution_count": 28,
   "id": "a918dbe5",
   "metadata": {},
   "outputs": [
    {
     "data": {
      "image/png": "[encoded data removed]",
      "text/plain": [
       "<Figure size 432x288 with 1 Axes>"
      ]
     },
     "metadata": {
      "needs_background": "light"
     },
     "output_type": "display_data"
    }
   ],
   "source": [
    "plt.plot(zz,intt)\n",
    "plt.xlabel('z')\n",
    "plt.ylabel('Ez')\n",
    "plt.show()"
   ]
  },
  {
   "cell_type": "markdown",
   "id": "5e1018f2",
   "metadata": {},
   "source": [
    "# Problem 3\n",
    "(Problem 2 is after Problem 3)"
   ]
  },
  {
   "cell_type": "markdown",
   "id": "54273540",
   "metadata": {},
   "source": [
    "I defined $n$ points to make the fit with the Chebyshev polynomials to $\\log_{\n",
    "2}$"
   ]
  },
  {
   "cell_type": "code",
   "execution_count": 30,
   "id": "5f661c0c",
   "metadata": {},
   "outputs": [],
   "source": [
    "n=31"
   ]
  },
  {
   "cell_type": "code",
   "execution_count": 31,
   "id": "521d1603",
   "metadata": {},
   "outputs": [],
   "source": [
    "xx=np.linspace(0.5,1,n)\n",
    "yy=np.log2(xx)"
   ]
  },
  {
   "cell_type": "markdown",
   "id": "a1cef42d",
   "metadata": {},
   "source": [
    "Since Chebyshev polynomials are defined for $\\in[-1,1]$ for Domain and Range, we must change our variables. First $0.5<x<1$, so I defined $-1<u=4x-3<1$. And I used $-1<v=2y+1<1$ for$-1<y=f(x)<0$.    "
   ]
  },
  {
   "cell_type": "code",
   "execution_count": 32,
   "id": "3e3ab08b",
   "metadata": {},
   "outputs": [],
   "source": [
    "uu=4*xx-3\n",
    "vv=2*yy+1"
   ]
  },
  {
   "cell_type": "code",
   "execution_count": 33,
   "id": "ae854753",
   "metadata": {},
   "outputs": [
    {
     "data": {
      "text/plain": [
       "array([-1.        , -0.93333333, -0.86666667, -0.8       , -0.73333333,\n",
       "       -0.66666667, -0.6       , -0.53333333, -0.46666667, -0.4       ,\n",
       "       -0.33333333, -0.26666667, -0.2       , -0.13333333, -0.06666667,\n",
       "        0.        ,  0.06666667,  0.13333333,  0.2       ,  0.26666667,\n",
       "        0.33333333,  0.4       ,  0.46666667,  0.53333333,  0.6       ,\n",
       "        0.66666667,  0.73333333,  0.8       ,  0.86666667,  0.93333333,\n",
       "        1.        ])"
      ]
     },
     "execution_count": 33,
     "metadata": {},
     "output_type": "execute_result"
    }
   ],
   "source": [
    "uu"
   ]
  },
  {
   "cell_type": "code",
   "execution_count": 34,
   "id": "b96d9624",
   "metadata": {},
   "outputs": [
    {
     "data": {
      "text/plain": [
       "array([-1.        , -0.90538857, -0.81378119, -0.72499295, -0.63885551,\n",
       "       -0.55521516, -0.47393119, -0.39487446, -0.31792616, -0.24297675,\n",
       "       -0.169925  , -0.09867718, -0.02914635,  0.03874832,  0.10508205,\n",
       "        0.169925  ,  0.23334272,  0.29539651,  0.35614381,  0.4156385 ,\n",
       "        0.47393119,  0.53106949,  0.58709825,  0.64205972,  0.69599381,\n",
       "        0.74893824,  0.80092865,  0.85199884,  0.9021808 ,  0.95150491,\n",
       "        1.        ])"
      ]
     },
     "execution_count": 34,
     "metadata": {},
     "output_type": "execute_result"
    }
   ],
   "source": [
    "vv"
   ]
  },
  {
   "cell_type": "markdown",
   "id": "6970d33d",
   "metadata": {},
   "source": [
    "mat is the Matrix for the u evaluated in the polynomials until grade $n-1$"
   ]
  },
  {
   "cell_type": "code",
   "execution_count": 37,
   "id": "33bd63e9",
   "metadata": {},
   "outputs": [],
   "source": [
    "mat=np.polynomial.chebyshev.chebvander(uu,n-1)"
   ]
  },
  {
   "cell_type": "markdown",
   "id": "e3840b68",
   "metadata": {},
   "source": [
    "fitp is the inverse of mat multiplied by v to obtain the coefficients for the polynomial fit."
   ]
  },
  {
   "cell_type": "code",
   "execution_count": 38,
   "id": "8d3ea471",
   "metadata": {},
   "outputs": [],
   "source": [
    "fitp=np.linalg.inv(mat)@vv"
   ]
  },
  {
   "cell_type": "code",
   "execution_count": 39,
   "id": "eab7177f",
   "metadata": {},
   "outputs": [
    {
     "data": {
      "text/plain": [
       "array([ 8.62132127e-02,  9.90109345e-01, -8.49379535e-02,  9.71536589e-03,\n",
       "       -1.25016982e-03,  1.71596153e-04, -2.45343035e-05,  3.60806644e-06,\n",
       "       -5.41660484e-07,  8.26344149e-08, -1.27856765e-08,  2.00816430e-09,\n",
       "       -3.67435860e-10,  9.18589649e-11, -1.01863407e-10,  4.72937245e-11,\n",
       "       -8.00355338e-11,  3.54702934e-11, -5.82076609e-11,  2.54658516e-11,\n",
       "       -4.00177669e-11,  1.36424205e-11, -2.00088834e-11,  5.45696821e-12,\n",
       "       -2.72848411e-12,  9.09494702e-13,  2.27373675e-13,  1.70530257e-13,\n",
       "        2.84217094e-13,  2.48689958e-14,  4.97379915e-14])"
      ]
     },
     "execution_count": 39,
     "metadata": {},
     "output_type": "execute_result"
    }
   ],
   "source": [
    "fitp #some coefficients could be 0"
   ]
  },
  {
   "cell_type": "markdown",
   "id": "3682a016",
   "metadata": {},
   "source": [
    "I took until coefficient of index 7 to be significant for this fit, so the others were turned to 0."
   ]
  },
  {
   "cell_type": "code",
   "execution_count": 40,
   "id": "d6829e6c",
   "metadata": {},
   "outputs": [],
   "source": [
    "fitp[8:]=0"
   ]
  },
  {
   "cell_type": "code",
   "execution_count": 41,
   "id": "22a51ae2",
   "metadata": {},
   "outputs": [
    {
     "data": {
      "text/plain": [
       "array([ 8.62132127e-02,  9.90109345e-01, -8.49379535e-02,  9.71536589e-03,\n",
       "       -1.25016982e-03,  1.71596153e-04, -2.45343035e-05,  3.60806644e-06,\n",
       "        0.00000000e+00,  0.00000000e+00,  0.00000000e+00,  0.00000000e+00,\n",
       "        0.00000000e+00,  0.00000000e+00,  0.00000000e+00,  0.00000000e+00,\n",
       "        0.00000000e+00,  0.00000000e+00,  0.00000000e+00,  0.00000000e+00,\n",
       "        0.00000000e+00,  0.00000000e+00,  0.00000000e+00,  0.00000000e+00,\n",
       "        0.00000000e+00,  0.00000000e+00,  0.00000000e+00,  0.00000000e+00,\n",
       "        0.00000000e+00,  0.00000000e+00,  0.00000000e+00])"
      ]
     },
     "execution_count": 41,
     "metadata": {},
     "output_type": "execute_result"
    }
   ],
   "source": [
    "fitp"
   ]
  },
  {
   "cell_type": "markdown",
   "id": "7d163402",
   "metadata": {},
   "source": [
    "predv is the prediction for v using the polynomial fit."
   ]
  },
  {
   "cell_type": "code",
   "execution_count": 42,
   "id": "bfbedb22",
   "metadata": {},
   "outputs": [],
   "source": [
    "predv=mat@fitp"
   ]
  },
  {
   "cell_type": "code",
   "execution_count": 45,
   "id": "ad072c5c",
   "metadata": {},
   "outputs": [
    {
     "data": {
      "image/png": "[encoded data removed]",
      "text/plain": [
       "<Figure size 432x288 with 1 Axes>"
      ]
     },
     "metadata": {
      "needs_background": "light"
     },
     "output_type": "display_data"
    }
   ],
   "source": [
    "plt.plot(uu,vv,label='v(u)')\n",
    "plt.plot(uu,predv,'--',label='polynomial fit')\n",
    "plt.xlabel('u')\n",
    "plt.ylabel('v')\n",
    "plt.legend()\n",
    "plt.show()"
   ]
  },
  {
   "cell_type": "markdown",
   "id": "72a4a119",
   "metadata": {},
   "source": [
    "And the absolute error, which $<10^{6}$"
   ]
  },
  {
   "cell_type": "code",
   "execution_count": 46,
   "id": "ebc15192",
   "metadata": {},
   "outputs": [
    {
     "data": {
      "image/png": "[encoded data removed]",
      "text/plain": [
       "<Figure size 432x288 with 1 Axes>"
      ]
     },
     "metadata": {
      "needs_background": "light"
     },
     "output_type": "display_data"
    }
   ],
   "source": [
    "plt.loglog(uu,np.abs(vv-predv))\n",
    "plt.xlabel('u')\n",
    "plt.ylabel('Absolute error')\n",
    "plt.show()"
   ]
  },
  {
   "cell_type": "markdown",
   "id": "83cb5ea6",
   "metadata": {},
   "source": [
    "And I returned to $y=f(x)=v/2-1/2$ to see how the prediction work for the original variables."
   ]
  },
  {
   "cell_type": "code",
   "execution_count": 48,
   "id": "8d5e5993",
   "metadata": {},
   "outputs": [],
   "source": [
    "predy=(predv-1)/2"
   ]
  },
  {
   "cell_type": "code",
   "execution_count": 50,
   "id": "9d4c2bd8",
   "metadata": {},
   "outputs": [
    {
     "data": {
      "image/png": "[encoded data removed]",
      "text/plain": [
       "<Figure size 432x288 with 1 Axes>"
      ]
     },
     "metadata": {
      "needs_background": "light"
     },
     "output_type": "display_data"
    }
   ],
   "source": [
    "plt.plot(xx,yy,label='f(x)=$log_{2}(x)$')\n",
    "plt.plot(xx,predy,'--',label='polynomial fit')\n",
    "plt.xlabel('x')\n",
    "plt.ylabel('y')\n",
    "plt.legend()\n",
    "plt.show()"
   ]
  },
  {
   "cell_type": "markdown",
   "id": "f77b7abb",
   "metadata": {},
   "source": [
    "The error remains the expected values"
   ]
  },
  {
   "cell_type": "code",
   "execution_count": 51,
   "id": "ce9b3a4b",
   "metadata": {},
   "outputs": [
    {
     "data": {
      "image/png": "[encoded data removed]",
      "text/plain": [
       "<Figure size 432x288 with 1 Axes>"
      ]
     },
     "metadata": {
      "needs_background": "light"
     },
     "output_type": "display_data"
    }
   ],
   "source": [
    "plt.loglog(xx,np.abs(yy-predy))\n",
    "plt.xlabel('y')\n",
    "plt.ylabel('Absolute error')\n",
    "plt.show()"
   ]
  },
  {
   "cell_type": "markdown",
   "id": "bee0b2c0",
   "metadata": {},
   "source": [
    "I defined the routine log to estimate the natural log from the $log_{2}$ polynomial fit. Using np.frexp the variable x is separated in m and n, then $x=m2^{n}$. The m of the mantissa $\\in[0.5,1]$ for positive x, then I used the polynomial fit that I did before to compute the natural log as follows:\n",
    "$$\\ln{x}=\\frac{\\log_{2}(m)+n}{\\log_{2}(e_{m})+e_{n}}$$\n",
    "Where $e_{m},e_{n}$ are the mantissa-exponent component of the Euler's number."
   ]
  },
  {
   "cell_type": "code",
   "execution_count": 53,
   "id": "6d477a3e",
   "metadata": {},
   "outputs": [],
   "source": [
    "def log(x):\n",
    "    m,n=np.frexp(x)\n",
    "    u=4*m-3\n",
    "    v=np.polynomial.chebyshev.chebval(u,fitp)\n",
    "    log2_m=(v-1)/2\n",
    "    \n",
    "    me,ne=np.frexp(np.e)\n",
    "    ue=(4*me)-3\n",
    "    ve=np.polynomial.chebyshev.chebval(ue,fitp)\n",
    "    log2_me=(ve-1)/2\n",
    "    \n",
    "    return (log2_m+n)/(log2_me+ne)"
   ]
  },
  {
   "cell_type": "markdown",
   "id": "7b72b407",
   "metadata": {},
   "source": [
    "I can compare it for a few values"
   ]
  },
  {
   "cell_type": "code",
   "execution_count": 55,
   "id": "6fb8933f",
   "metadata": {},
   "outputs": [
    {
     "data": {
      "image/png": "[encoded data removed]",
      "text/plain": [
       "<Figure size 432x288 with 1 Axes>"
      ]
     },
     "metadata": {
      "needs_background": "light"
     },
     "output_type": "display_data"
    }
   ],
   "source": [
    "xt=np.linspace(0.01,100,1001)\n",
    "plt.plot(xt,np.log(xt),label='f(x)=$ln(x)$')\n",
    "plt.plot(xt,log(xt),'--',label='my ln')\n",
    "plt.xlabel('x')\n",
    "plt.ylabel('y')\n",
    "plt.legend()\n",
    "plt.show()"
   ]
  },
  {
   "cell_type": "code",
   "execution_count": 56,
   "id": "826c6054",
   "metadata": {},
   "outputs": [
    {
     "data": {
      "text/plain": [
       "(4.60517073605484, 4.605170185988092)"
      ]
     },
     "execution_count": 56,
     "metadata": {},
     "output_type": "execute_result"
    }
   ],
   "source": [
    "log(100),np.log(100)"
   ]
  },
  {
   "cell_type": "code",
   "execution_count": 57,
   "id": "be198e66",
   "metadata": {},
   "outputs": [
    {
     "data": {
      "text/plain": [
       "(-3.218876343760675, -3.2188758248682006)"
      ]
     },
     "execution_count": 57,
     "metadata": {},
     "output_type": "execute_result"
    }
   ],
   "source": [
    "log(0.04),np.log(0.04)"
   ]
  },
  {
   "cell_type": "markdown",
   "id": "12920156",
   "metadata": {},
   "source": [
    "# Problem 2"
   ]
  },
  {
   "cell_type": "markdown",
   "id": "25f23032",
   "metadata": {},
   "source": [
    "I wrote a recursive stepsize integrator that does not compute $f(x)$ for the same $x$ two time. Then the routine starts with extra=None and calculate the integral using the trapezoid method=i1 and the Simpson's rule=2 for 5 points. Then compare the absolute error between i1 and i2, if it is lower than the tolerance it returns i2. But if tolerance < error, the routine adds to extra all the $f(x)$ that we computed before as well as n and e which are used to do the following iteration, then if we start with 5 points for x, now the routine adds 1 point for every interval, then we have 9 points now, since the routine saved the previous $f(x)$ it only computes $f(x)$ for the extra points; the Integral is estimated with the trapezoid and Simpson's rule again using the old and the new points and the error is compared with the tolerance, the process is repeated until we have a lower error than the tolerance. In each iteration we will have $r=n+2^{e}$ terms in the sumation that estimate the integral, were $n$ is the amount of data points in the previous iteration and $e$ the exponent that is 2 for 9 pints, 3 for the following iteration, then 4, etc.    "
   ]
  },
  {
   "cell_type": "code",
   "execution_count": 61,
   "id": "2a9b47b3",
   "metadata": {},
   "outputs": [],
   "source": [
    "def integrate(fun,a,b,tol,extra=None):\n",
    "    print('call')\n",
    "    if extra==None:\n",
    "        #extra=[]\n",
    "        x=np.linspace(a,b,5)\n",
    "        dx=x[1]-x[0]\n",
    "        y=fun(x)\n",
    "    \n",
    "        i1=(0.5*y[0]+(y[1]+y[2]+y[3])+0.5*y[4])*dx\n",
    "        i2=dx*(y[0]+4*y[1]+2*y[2]+4*y[3]+y[4])/3\n",
    "        n=len(x)\n",
    "        e=2\n",
    "        extra=[y,n,e]\n",
    "        myerr=np.abs(i1-i2)\n",
    "        #print(i2)\n",
    "        if myerr<tol:\n",
    "            extra=0\n",
    "            return print('Integral: '+str(i2)+', Error:'+str(myerr))\n",
    "        else:\n",
    "            integrate(fun,a,b,tol,extra)\n",
    "        \n",
    "    else:\n",
    "        n=extra[1]\n",
    "        e=extra[2]\n",
    "        x2=np.linspace(a,b,int(n+2**e))[1::2] \n",
    "        y1=extra[0]\n",
    "        y2=list(fun(np.array(x2))) #I do not use the same x as before\n",
    "                            #I just compute f(x) for the new point and \n",
    "                            #add the old points in extra when doing the sumation \n",
    "       \n",
    "        y=np.zeros(n+2**e)\n",
    "        p=0\n",
    "        c=0\n",
    "    \n",
    "        for i in range(0,len(y),2):\n",
    "            y[i]=y1[c]\n",
    "            c+=1\n",
    "        for i in range(1,len(y)-1,2):\n",
    "            y[i]=y2[p]\n",
    "            p+=1\n",
    "            \n",
    "        dx=x2[0]-a \n",
    "        i1=0.5*(y[0]+y[-1])*dx+sum(y[1:-1])*dx\n",
    "        i2=(y[0]+y[-1]+4*sum(y[1::2])+2*sum(y[2:-1:2]))*dx/3 #Simpson\n",
    "        myerr=np.abs(i1-i2)\n",
    "        \n",
    "        if myerr<tol:\n",
    "            return print('Integral: '+str(i2)+', Error:'+str(myerr))\n",
    "        else:\n",
    "            n=len(y)\n",
    "            e+=1\n",
    "            extra=[y,n,e]\n",
    "            integrate(fun,a,b,tol,extra)"
   ]
  },
  {
   "cell_type": "markdown",
   "id": "4b15d2fb",
   "metadata": {},
   "source": [
    "Let's test the routine and compare with the routine of the class that I renamed as integrate2:\n",
    "$$\\int_{1}^{2} \\ln{x}dx$$"
   ]
  },
  {
   "cell_type": "code",
   "execution_count": 62,
   "id": "c70b42f3",
   "metadata": {},
   "outputs": [
    {
     "name": "stdout",
     "output_type": "stream",
     "text": [
      "call\n",
      "call\n",
      "call\n",
      "call\n",
      "call\n",
      "call\n",
      "call\n",
      "call\n",
      "call\n",
      "Integral: 0.38629436111988164, Error:3.973641882204504e-08\n"
     ]
    }
   ],
   "source": [
    "integrate(np.log,1,2,10**-7,extra=None)"
   ]
  },
  {
   "cell_type": "markdown",
   "id": "bc595054",
   "metadata": {},
   "source": [
    "It took  9 calls to estimate the integral with tolerance less than $10^{7}$"
   ]
  },
  {
   "cell_type": "code",
   "execution_count": 63,
   "id": "4df6a2c6",
   "metadata": {},
   "outputs": [],
   "source": [
    "def integrate2(fun,a,b,tol):\n",
    "    print('calling function from ',a,b)\n",
    "    x=np.linspace(a,b,5)\n",
    "    dx=x[1]-x[0]\n",
    "    y=fun(x)\n",
    "    #do the 3-point integral\n",
    "    i1=(y[0]+4*y[2]+y[4])/3*(2*dx)\n",
    "    i2=(y[0]+4*y[1]+2*y[2]+4*y[3]+y[4])/3*dx\n",
    "    myerr=np.abs(i1-i2)\n",
    "    if myerr<tol:\n",
    "        return i2\n",
    "    else:\n",
    "        mid=(a+b)/2\n",
    "        int1=integrate2(fun,a,mid,tol/2)\n",
    "        int2=integrate2(fun,mid,b,tol/2)\n",
    "    \n",
    "        return int1+int2"
   ]
  },
  {
   "cell_type": "code",
   "execution_count": 64,
   "id": "b75b3367",
   "metadata": {},
   "outputs": [
    {
     "name": "stdout",
     "output_type": "stream",
     "text": [
      "calling function from  1 2\n",
      "calling function from  1 1.5\n",
      "calling function from  1 1.25\n",
      "calling function from  1 1.125\n",
      "calling function from  1 1.0625\n",
      "calling function from  1.0625 1.125\n",
      "calling function from  1.125 1.25\n",
      "calling function from  1.125 1.1875\n",
      "calling function from  1.1875 1.25\n",
      "calling function from  1.25 1.5\n",
      "calling function from  1.25 1.375\n",
      "calling function from  1.25 1.3125\n",
      "calling function from  1.3125 1.375\n",
      "calling function from  1.375 1.5\n",
      "calling function from  1.375 1.4375\n",
      "calling function from  1.4375 1.5\n",
      "calling function from  1.5 2\n",
      "calling function from  1.5 1.75\n",
      "calling function from  1.5 1.625\n",
      "calling function from  1.625 1.75\n",
      "calling function from  1.75 2\n",
      "calling function from  1.75 1.875\n",
      "calling function from  1.875 2\n"
     ]
    },
    {
     "data": {
      "text/plain": [
       "0.3862943588404081"
      ]
     },
     "execution_count": 64,
     "metadata": {},
     "output_type": "execute_result"
    }
   ],
   "source": [
    "integrate2(np.log,1,2,10**-7)"
   ]
  },
  {
   "cell_type": "markdown",
   "id": "fc324257",
   "metadata": {},
   "source": [
    "For the class code it tooks more than 20 calls. Let's do another example"
   ]
  },
  {
   "cell_type": "markdown",
   "id": "c5596ddf",
   "metadata": {},
   "source": [
    "$$\\int_{0}^{\\pi/2} \\sin{x}dx$$"
   ]
  },
  {
   "cell_type": "code",
   "execution_count": 65,
   "id": "a86028c2",
   "metadata": {},
   "outputs": [
    {
     "name": "stdout",
     "output_type": "stream",
     "text": [
      "call\n",
      "call\n",
      "call\n",
      "call\n",
      "call\n",
      "call\n",
      "call\n",
      "call\n",
      "call\n",
      "call\n",
      "Integral: 1.0000000000000018, Error:4.902285899444081e-08\n"
     ]
    }
   ],
   "source": [
    "integrate(np.sin,0,np.pi/2,10**-7,extra=None)"
   ]
  },
  {
   "cell_type": "code",
   "execution_count": 66,
   "id": "35864e97",
   "metadata": {},
   "outputs": [
    {
     "name": "stdout",
     "output_type": "stream",
     "text": [
      "calling function from  0 1.5707963267948966\n",
      "calling function from  0 0.7853981633974483\n",
      "calling function from  0 0.39269908169872414\n",
      "calling function from  0 0.19634954084936207\n",
      "calling function from  0.19634954084936207 0.39269908169872414\n",
      "calling function from  0.19634954084936207 0.2945243112740431\n",
      "calling function from  0.2945243112740431 0.39269908169872414\n",
      "calling function from  0.39269908169872414 0.7853981633974483\n",
      "calling function from  0.39269908169872414 0.5890486225480862\n",
      "calling function from  0.39269908169872414 0.4908738521234052\n",
      "calling function from  0.4908738521234052 0.5890486225480862\n",
      "calling function from  0.5890486225480862 0.7853981633974483\n",
      "calling function from  0.5890486225480862 0.6872233929727672\n",
      "calling function from  0.6872233929727672 0.7853981633974483\n",
      "calling function from  0.7853981633974483 1.5707963267948966\n",
      "calling function from  0.7853981633974483 1.1780972450961724\n",
      "calling function from  0.7853981633974483 0.9817477042468103\n",
      "calling function from  0.7853981633974483 0.8835729338221293\n",
      "calling function from  0.8835729338221293 0.9817477042468103\n",
      "calling function from  0.9817477042468103 1.1780972450961724\n",
      "calling function from  0.9817477042468103 1.0799224746714913\n",
      "calling function from  1.0799224746714913 1.1780972450961724\n",
      "calling function from  1.1780972450961724 1.5707963267948966\n",
      "calling function from  1.1780972450961724 1.3744467859455345\n",
      "calling function from  1.1780972450961724 1.2762720155208536\n",
      "calling function from  1.2762720155208536 1.3744467859455345\n",
      "calling function from  1.3744467859455345 1.5707963267948966\n",
      "calling function from  1.3744467859455345 1.4726215563702154\n",
      "calling function from  1.4726215563702154 1.5707963267948966\n"
     ]
    },
    {
     "data": {
      "text/plain": [
       "1.0000000025973508"
      ]
     },
     "execution_count": 66,
     "metadata": {},
     "output_type": "execute_result"
    }
   ],
   "source": [
    "integrate2(np.sin,0,np.pi/2,10**-7)"
   ]
  },
  {
   "cell_type": "markdown",
   "id": "51c79c51",
   "metadata": {},
   "source": [
    "We coputed the integral faster than the routine of the class again."
   ]
  },
  {
   "cell_type": "code",
   "execution_count": null,
   "id": "fff4181d",
   "metadata": {},
   "outputs": [],
   "source": []
  }
 ],
 "metadata": {
  "kernelspec": {
   "display_name": "Python 3 (ipykernel)",
   "language": "python",
   "name": "python3"
  },
  "language_info": {
   "codemirror_mode": {
    "name": "ipython",
    "version": 3
   },
   "file_extension": ".py",
   "mimetype": "text/x-python",
   "name": "python",
   "nbconvert_exporter": "python",
   "pygments_lexer": "ipython3",
   "version": "3.9.12"
  }
 },
 "nbformat": 4,
 "nbformat_minor": 5
}
