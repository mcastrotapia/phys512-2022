{
 "cells": [
  {
   "cell_type": "markdown",
   "id": "1d5db93f",
   "metadata": {},
   "source": [
    "## Problem Set 3 (PHYS512) - Matias Castro Tapia"
   ]
  },
  {
   "cell_type": "code",
   "execution_count": 195,
   "id": "5129f3fc",
   "metadata": {},
   "outputs": [],
   "source": [
    "import numpy as np\n",
    "import matplotlib.pyplot as plt"
   ]
  },
  {
   "cell_type": "markdown",
   "id": "298963af",
   "metadata": {},
   "source": [
    "## Problem 1"
   ]
  },
  {
   "cell_type": "markdown",
   "id": "f5084b62",
   "metadata": {},
   "source": [
    "I defined the routine rk4 step to use the Runge Kutta mthod for integrating diferential equations. Thus:\n",
    "$$f(x,y)=\\frac{dy}{dx}$$\n",
    "$$k_{1}=hf(x_{n},y_{n})$$\n",
    "$$k_{2}=hf(x_{n}+h/2,y_{n}+k_{1}/2)$$\n",
    "$$k_{3}=hf(x_{n}+h/2,y+k_{2}/2)$$\n",
    "$$k_{4}=hf(x_{n}+h,y_{n}+k_{3})$$\n",
    "And then:\n",
    "$$y_{n+1}=y_{n}+k_{1}/6+k_{2}/3+k_{3}/3+k_{4}/6$$\n",
    "or\n",
    "$$y(x+h)=y(x)+k_{1}/6+k_{2}/3+k_{3}/3+k_{4}/6$$"
   ]
  },
  {
   "cell_type": "code",
   "execution_count": 2,
   "id": "224e788f",
   "metadata": {},
   "outputs": [],
   "source": [
    "def rk4_step(fun,x,y,h):\n",
    "    k1=h*fun(x,y)\n",
    "    k2=h*fun(x+(h/2),y+(k1/2))\n",
    "    k3=h*fun(x+(h/2),y+(k2/2))\n",
    "    k4=h*fun(x+h,y+k3)\n",
    "    dy=(k1/6)+(k2/3)+(k3/3)+(k4/6)\n",
    "    return y+dy"
   ]
  },
  {
   "cell_type": "markdown",
   "id": "2516d17c",
   "metadata": {},
   "source": [
    "I used rk4_step to solve $\\frac{dy}{dx}=\\frac{y}{1+x^{2}}$. I defined $h=\\frac{20-(-20)}{200}$ because we want to use 200 steps from the initial value $x=-20$ to the last $x=20$ to solve the ODE. Also, $y(-20)=1$ for the boundary condition."
   ]
  },
  {
   "cell_type": "code",
   "execution_count": 237,
   "id": "a106204a",
   "metadata": {},
   "outputs": [],
   "source": [
    "xx=np.linspace(-20,20,201)"
   ]
  },
  {
   "cell_type": "code",
   "execution_count": 238,
   "id": "0783509e",
   "metadata": {},
   "outputs": [],
   "source": [
    "def dydx(x,y):\n",
    "    return y/(1+(x**2))"
   ]
  },
  {
   "cell_type": "code",
   "execution_count": 239,
   "id": "cb691900",
   "metadata": {},
   "outputs": [],
   "source": [
    "y0=1\n",
    "yy=np.ones(len(xx))\n",
    "h=(xx[-1]-xx[0])/200\n",
    "yy[0]=y0\n",
    "for i in range(len(xx)-1):\n",
    "    yy[i+1]=rk4_step(dydx,xx[i],yy[i],h)"
   ]
  },
  {
   "cell_type": "markdown",
   "id": "48e3dae0",
   "metadata": {},
   "source": [
    "The analyic solution is $y=c0\\exp{(\\arctan(x))}$. For this case the constant must be $c0=1/\\exp(\\arctan(-20))$ for our boundary condition."
   ]
  },
  {
   "cell_type": "code",
   "execution_count": 244,
   "id": "fe90d0dc",
   "metadata": {},
   "outputs": [],
   "source": [
    "c0=1/np.exp(np.arctan(-20))"
   ]
  },
  {
   "cell_type": "code",
   "execution_count": 245,
   "id": "35b87a14",
   "metadata": {},
   "outputs": [],
   "source": [
    "yan=c0*np.exp(np.arctan(xx))"
   ]
  },
  {
   "cell_type": "markdown",
   "id": "23c745cd",
   "metadata": {},
   "source": [
    "Now comparing the RK4 solution and the analytical:"
   ]
  },
  {
   "cell_type": "code",
   "execution_count": 252,
   "id": "c08ad17e",
   "metadata": {},
   "outputs": [
    {
     "data": {
      "image/png": "[encoded data removed]",
      "text/plain": [
       "<Figure size 432x288 with 1 Axes>"
      ]
     },
     "metadata": {
      "needs_background": "light"
     },
     "output_type": "display_data"
    }
   ],
   "source": [
    "plt.plot(xx,yan,color='green',label='Analytical solution',linewidth=2)\n",
    "plt.plot(xx,yy,'r-.', label='RK4 solution')\n",
    "plt.xlabel('x')\n",
    "plt.ylabel('y')\n",
    "plt.legend()\n",
    "plt.show()"
   ]
  },
  {
   "cell_type": "markdown",
   "id": "9ae14b58",
   "metadata": {},
   "source": [
    "I defined the routine rk4_stepd, which uses the rk4_step routine to compute first $y(x+h/2)$, then uses this to compute the following $y$ with another step of $h/2$, then $y(x+h)=y(x+h/2)+RK4_{terms}=y_{2}$. Rigorously, this value should be closer to $y(x+h)=y_{2}+2(\\frac{h}{2})^{5}\\psi+O(h^{6})$ with $\\psi=y^{(5)}/5!$ since RK4 method accuracy is trucated to ignore terms of order $h^{5}$ or higher. \n",
    "\n",
    "On the other hand, the routine also compute $y(x+h)=y(x)+RK4_{terms}=y_{1}$, i.e., using a single step of $h$. For this case we will have $y(x+h)=y_{1}+h^{5}\\psi+O(h^{6})$. Then, if we substract both expressions for $y(x+h)$ we will have:\n",
    "$$0=y_{1}-y_{2}+h^{5}\\frac{15}{15}$$\n",
    "$$(y_{2}-y_{1})\\frac{16}{15}=h^{5}\\psi$$\n",
    "and replacing in the first expression for $y(x+h)$:\n",
    "$$y(x+h)=y_{2}+\\frac{y_{2}-y_{1}}{15}$$\n",
    "The routine rk4_stepd returns this final expression. We can note that rk4_step evaluate $f(x,y)$ 4 times to obtain the RK4 terms, while rk4_stepd evaluate $f(x,y)$ 12 times because it uses rk4_step 3 times. Therefore, if we want to use almost the same number of function evaluations in both routines we must use about 66 steps in rk4_stepd."
   ]
  },
  {
   "cell_type": "code",
   "execution_count": 253,
   "id": "301af8f7",
   "metadata": {},
   "outputs": [],
   "source": [
    "def rk4_stepd(fun,x,y,h):\n",
    "    yhalf=rk4_step(fun,x,y,h/2)\n",
    "    y2=rk4_step(fun,x,yhalf,h/2)\n",
    "    y1=rk4_step(fun,x,y,h)\n",
    "    return  y2 + (y2-y1)/15\n",
    "    #h2=h/2\n",
    "    #k12=h2*fun(x,y,h2)\n",
    "    #k22=h2*fun(x+(h2/2),y+(k12/2))\n",
    "    #k32=h2*fun(x+(h2/2),y+(k22/2))\n",
    "    #k42=h2*fun(x+h2,y+k32)\n",
    "    #dy2=(k12/6)+(k22/3)+(k32/3)+(k42/6)\n",
    "    #yhalf=y+dy2\n",
    "    "
   ]
  },
  {
   "cell_type": "code",
   "execution_count": 272,
   "id": "1d5bd9b0",
   "metadata": {},
   "outputs": [],
   "source": [
    "xx2=np.linspace(-20,20,67)"
   ]
  },
  {
   "cell_type": "code",
   "execution_count": 273,
   "id": "d95e774e",
   "metadata": {},
   "outputs": [],
   "source": [
    "yyy=np.ones(len(xx2))\n",
    "h2=(xx2[-1]-xx2[0])/66\n",
    "yyy[0]=y0\n",
    "for i in range(len(xx2)-1):\n",
    "    yyy[i+1]=rk4_stepd(dydx,xx2[i],yyy[i],h2)"
   ]
  },
  {
   "cell_type": "markdown",
   "id": "498f68ac",
   "metadata": {},
   "source": [
    "Comparing both mehods:"
   ]
  },
  {
   "cell_type": "code",
   "execution_count": 274,
   "id": "54687781",
   "metadata": {
    "scrolled": true
   },
   "outputs": [
    {
     "data": {
      "image/png": "[encoded data removed]",
      "text/plain": [
       "<Figure size 432x288 with 1 Axes>"
      ]
     },
     "metadata": {
      "needs_background": "light"
     },
     "output_type": "display_data"
    }
   ],
   "source": [
    "plt.plot(xx,yan,color='green',label='Analytical solution',linewidth=2.5)\n",
    "plt.plot(xx,yy,'r-.', label='RK4 solution')\n",
    "plt.plot(xx2,yyy,'--',label='RK4 modified')\n",
    "plt.xlabel('x')\n",
    "plt.ylabel('y')\n",
    "plt.legend()\n",
    "plt.show()"
   ]
  },
  {
   "cell_type": "code",
   "execution_count": 275,
   "id": "cd869522",
   "metadata": {},
   "outputs": [],
   "source": [
    "yan2=c0*np.exp(np.arctan(xx2))"
   ]
  },
  {
   "cell_type": "markdown",
   "id": "2910ea34",
   "metadata": {},
   "source": [
    "Let's compare the errors too."
   ]
  },
  {
   "cell_type": "code",
   "execution_count": 277,
   "id": "428e3432",
   "metadata": {},
   "outputs": [
    {
     "data": {
      "image/png": "[encoded data removed]",
      "text/plain": [
       "<Figure size 432x288 with 1 Axes>"
      ]
     },
     "metadata": {
      "needs_background": "light"
     },
     "output_type": "display_data"
    }
   ],
   "source": [
    "plt.plot(xx,np.abs(yy-yan),'r-.',label='RK4 solution')\n",
    "plt.plot(xx2,np.abs(yyy-yan2),'--',label='RK4 modified')\n",
    "plt.yscale('log')\n",
    "plt.xlabel('x')\n",
    "plt.ylabel('Absolute error')\n",
    "plt.legend()\n",
    "plt.show()"
   ]
  },
  {
   "cell_type": "markdown",
   "id": "d267d209",
   "metadata": {},
   "source": [
    "It seems like the modified method does not make the solution better. However, the errors seem to converge to an error of about $10^{-1}$."
   ]
  },
  {
   "cell_type": "markdown",
   "id": "0d00491b",
   "metadata": {},
   "source": [
    "## Problem 3\n",
    "(Problem 2 is after Problem 3)"
   ]
  },
  {
   "cell_type": "markdown",
   "id": "cbdcb4ae",
   "metadata": {},
   "source": [
    "I loaded the file with the \"dish zenith\" data. We can expand the expression for the paraboloid that we want to fit:\n",
    "$$z-z_{0}=a((x-x_{0})^{2}+(y-y_{0})^{2})$$\n",
    "$$z=a(x^{2}+y^{2})-2ax_{0}x-2ay_{0}y+a(x_{0}^{2}+y_{0}^{2})+z_{0}$$\n",
    "Then, we can define new variables $\\alpha=a$, $\\beta=-2ax_{0}$, $\\gamma=-2ay_{0}$, and $\\delta=a(x_{0}^{2}+y_{0}^{2})+z_{0}$:\n",
    "$$z=\\alpha(x^{2}+y^{2})+\\beta{x}+\\gamma{y}+\\delta$$\n",
    "For solving the best-fit parameters we should the best find $m=(\\alpha,\\beta,\\gamma,\\delta)$, where the matrix for the model would be (using the row element $A_{i}$):\n",
    "$A_{i}=((x_{i}^{2}+y_{i}^{2})$ $x_{i}$ $y_{i}$ $1)$. And the least squares solutions should be:\n",
    "\n",
    "$$m=(A^{T}A)^{-1}A^{T}z$$\n",
    "\n"
   ]
  },
  {
   "cell_type": "code",
   "execution_count": 281,
   "id": "d8079bf7",
   "metadata": {},
   "outputs": [],
   "source": [
    "dat=np.loadtxt('dish_zenith.txt')"
   ]
  },
  {
   "cell_type": "code",
   "execution_count": 282,
   "id": "63746c52",
   "metadata": {},
   "outputs": [],
   "source": [
    "xd=np.array([i[0] for i in dat])\n",
    "yd=np.array([i[1] for i in dat])\n",
    "zd=np.array([i[2] for i in dat])"
   ]
  },
  {
   "cell_type": "code",
   "execution_count": 283,
   "id": "3ef8893e",
   "metadata": {},
   "outputs": [],
   "source": [
    "mat=np.ones([len(xd),4])\n",
    "for i in range(len(xd)):\n",
    "    mat[i]=([xd[i]**2+yd[i]**2,xd[i],yd[i],1])"
   ]
  },
  {
   "cell_type": "markdown",
   "id": "017ed271",
   "metadata": {},
   "source": [
    "$$m=(A^{T}A)^{-1}A^{T}z$$"
   ]
  },
  {
   "cell_type": "code",
   "execution_count": 284,
   "id": "66a2b418",
   "metadata": {},
   "outputs": [],
   "source": [
    "m=np.linalg.inv(mat.T@mat)@mat.T@zd"
   ]
  },
  {
   "cell_type": "code",
   "execution_count": 35,
   "id": "66f48736",
   "metadata": {},
   "outputs": [
    {
     "data": {
      "text/plain": [
       "array([ 1.66704455e-04,  4.53599028e-04, -1.94115589e-02, -1.51231182e+03])"
      ]
     },
     "execution_count": 35,
     "metadata": {},
     "output_type": "execute_result"
    }
   ],
   "source": [
    "m"
   ]
  },
  {
   "cell_type": "markdown",
   "id": "0870eb4e",
   "metadata": {},
   "source": [
    "Now, we have to obtain the old parameters $a$, $x_{0}$, $y_{0}$, and $z_{0}$"
   ]
  },
  {
   "cell_type": "code",
   "execution_count": 285,
   "id": "fd6ec629",
   "metadata": {},
   "outputs": [],
   "source": [
    "a=m[0]\n",
    "x0=-m[1]/(2*m[0])\n",
    "y0=-m[2]/(2*m[0])\n",
    "z0=m[3]-(x0**2+y0**2)*a"
   ]
  },
  {
   "cell_type": "code",
   "execution_count": 286,
   "id": "0e4b4cae",
   "metadata": {},
   "outputs": [
    {
     "data": {
      "text/plain": [
       "(0.0001667044547740132,\n",
       " -1.3604886221978416,\n",
       " 58.22147608157977,\n",
       " -1512.877210036787)"
      ]
     },
     "execution_count": 286,
     "metadata": {},
     "output_type": "execute_result"
    }
   ],
   "source": [
    "a,x0,y0,z0"
   ]
  },
  {
   "cell_type": "markdown",
   "id": "10175ea7",
   "metadata": {},
   "source": [
    "Due to (x,y,z) in the data are in mm we can estimate the focal length in meters as $\\frac{(1/4a)}{1000}$"
   ]
  },
  {
   "cell_type": "code",
   "execution_count": 287,
   "id": "458c645f",
   "metadata": {},
   "outputs": [],
   "source": [
    "f=(1/(4*m[0]))/1000 #in meters"
   ]
  },
  {
   "cell_type": "code",
   "execution_count": 289,
   "id": "04156eb9",
   "metadata": {},
   "outputs": [
    {
     "data": {
      "text/plain": [
       "1.4996599841252194"
      ]
     },
     "execution_count": 289,
     "metadata": {},
     "output_type": "execute_result"
    }
   ],
   "source": [
    "f"
   ]
  },
  {
   "cell_type": "markdown",
   "id": "dd4d960c",
   "metadata": {},
   "source": [
    "We are going to define the error in the data comparing the fit with the data $\\sigma_{i}=|z_{i}-(Am)_{i}|$"
   ]
  },
  {
   "cell_type": "code",
   "execution_count": 290,
   "id": "a6b0b02b",
   "metadata": {},
   "outputs": [],
   "source": [
    "sig2=np.abs(zd-(mat@m))**2"
   ]
  },
  {
   "cell_type": "markdown",
   "id": "b4c3774b",
   "metadata": {},
   "source": [
    "I defined the noise matrix $N$ using $\\sigma_{i}^{2}$ as elements of a diagonal matrix"
   ]
  },
  {
   "cell_type": "code",
   "execution_count": 291,
   "id": "23398737",
   "metadata": {},
   "outputs": [],
   "source": [
    "Nnn=np.zeros([len(zd),len(zd)])\n",
    "for i in range(len(zd)):\n",
    "    Nnn[i][i]=sig2[i]"
   ]
  },
  {
   "cell_type": "markdown",
   "id": "051867e5",
   "metadata": {},
   "source": [
    "Now, the square errors in the best-fit parameters would be the diagonal of $(A^{T}N^{-1}A)^{-1}$ "
   ]
  },
  {
   "cell_type": "code",
   "execution_count": 297,
   "id": "a004d142",
   "metadata": {},
   "outputs": [],
   "source": [
    "errors2=np.diag(np.linalg.inv(mat.T@np.linalg.pinv(Nnn)@mat))"
   ]
  },
  {
   "cell_type": "code",
   "execution_count": 298,
   "id": "94e21cab",
   "metadata": {},
   "outputs": [
    {
     "data": {
      "text/plain": [
       "array([4.08048563e-18, 1.18646669e-11, 1.57044668e-11, 3.10090531e-05])"
      ]
     },
     "execution_count": 298,
     "metadata": {},
     "output_type": "execute_result"
    }
   ],
   "source": [
    "errors2"
   ]
  },
  {
   "cell_type": "code",
   "execution_count": 299,
   "id": "7dd2b2de",
   "metadata": {},
   "outputs": [],
   "source": [
    "errorm=np.sqrt(errors2)"
   ]
  },
  {
   "cell_type": "code",
   "execution_count": 300,
   "id": "36478256",
   "metadata": {},
   "outputs": [
    {
     "data": {
      "text/plain": [
       "array([2.02002120e-09, 3.44451258e-06, 3.96288618e-06, 5.56857729e-03])"
      ]
     },
     "execution_count": 300,
     "metadata": {},
     "output_type": "execute_result"
    }
   ],
   "source": [
    "errorm"
   ]
  },
  {
   "cell_type": "markdown",
   "id": "9ff53267",
   "metadata": {},
   "source": [
    "And the error in the focal length should be $\\Delta{f}=(|\\frac{df}{da}|\\Delta{a})$ with $\\Delta{a}=\\sigma_{a}$ and $\\Delta{f}=\\sigma_{f}$. Considering $|\\frac{df}{da}|=\\frac{1}{4a^{2}}$"
   ]
  },
  {
   "cell_type": "code",
   "execution_count": 304,
   "id": "e6cb3ce1",
   "metadata": {},
   "outputs": [],
   "source": [
    "errorf=errorm[0]/(4*(a**2))"
   ]
  },
  {
   "cell_type": "markdown",
   "id": "ba56c5c9",
   "metadata": {},
   "source": [
    "we have to multiply by (1/1000) to have the result in meters."
   ]
  },
  {
   "cell_type": "code",
   "execution_count": 306,
   "id": "69d36eb5",
   "metadata": {},
   "outputs": [
    {
     "data": {
      "text/plain": [
       "1.8171949618123915e-05"
      ]
     },
     "execution_count": 306,
     "metadata": {},
     "output_type": "execute_result"
    }
   ],
   "source": [
    "errorf/1000"
   ]
  },
  {
   "cell_type": "code",
   "execution_count": 308,
   "id": "03591d6c",
   "metadata": {},
   "outputs": [
    {
     "data": {
      "text/plain": [
       "0.00034001587478060813"
      ]
     },
     "execution_count": 308,
     "metadata": {},
     "output_type": "execute_result"
    }
   ],
   "source": [
    "np.abs(f-1.5)"
   ]
  },
  {
   "cell_type": "markdown",
   "id": "6b6c09a9",
   "metadata": {},
   "source": [
    "Comparing what I obtained 1.4996599841252194 meters with the expected value 1.5 meters we have a difference of about $10^{-4}$ which is one order of magnitude larger than the error we estimated."
   ]
  },
  {
   "cell_type": "code",
   "execution_count": 328,
   "id": "42b64b58",
   "metadata": {},
   "outputs": [
    {
     "data": {
      "text/plain": [
       "<mpl_toolkits.mplot3d.art3d.Path3DCollection at 0x258e25c3e20>"
      ]
     },
     "execution_count": 328,
     "metadata": {},
     "output_type": "execute_result"
    },
    {
     "data": {
      "image/png": "[encoded data removed]",
      "text/plain": [
       "<Figure size 504x504 with 1 Axes>"
      ]
     },
     "metadata": {
      "needs_background": "light"
     },
     "output_type": "display_data"
    }
   ],
   "source": [
    "fig = plt.figure(figsize=(7,7))\n",
    "ax = fig.add_subplot(projection='3d')\n",
    "ax.set_xlabel('x')\n",
    "ax.set_ylabel('y')\n",
    "ax.set_zlabel('z')\n",
    "#ax.plot_surface(xd,yd,mat@m,marker='.',cmap='Oranges')\n",
    "ax.scatter(xd,yd,mat@m,marker='.',color='orange')\n",
    "ax.scatter(xd, yd, zd, marker='.',color='navy')"
   ]
  },
  {
   "cell_type": "markdown",
   "id": "9b3faa29",
   "metadata": {},
   "source": [
    "## Problem 2\n",
    "\n",
    "I defined an array with all the half-lifes=th=$t_{1/2}$ in the order of $Pb_{206}$ to $U_{238}$. They are in years."
   ]
  },
  {
   "cell_type": "code",
   "execution_count": 331,
   "id": "5b13f623",
   "metadata": {},
   "outputs": [],
   "source": [
    "th=np.array([138.376*0.00274,5.015,22.3,164.3*(3.171e-14),19.9*(1.903e-6),\n",
    "            26.8*(1.903e-6),3.10*(1.903e-6),3.82535*0.00274,1600,75380,\n",
    "            245500,6.70*(0.000114),24.10*0.00274,4.468*(1e9)])"
   ]
  },
  {
   "cell_type": "code",
   "execution_count": 332,
   "id": "294d18c4",
   "metadata": {},
   "outputs": [
    {
     "data": {
      "text/plain": [
       "array([3.7915024e-01, 5.0150000e+00, 2.2300000e+01, 5.2099530e-12,\n",
       "       3.7869700e-05, 5.1000400e-05, 5.8993000e-06, 1.0481459e-02,\n",
       "       1.6000000e+03, 7.5380000e+04, 2.4550000e+05, 7.6380000e-04,\n",
       "       6.6034000e-02, 4.4680000e+09])"
      ]
     },
     "execution_count": 332,
     "metadata": {},
     "output_type": "execute_result"
    }
   ],
   "source": [
    "th"
   ]
  },
  {
   "cell_type": "markdown",
   "id": "03fb95ca",
   "metadata": {},
   "source": [
    "Then, ll=$\\lambda$ are the decay constants and are related to the half-lifes as $\\lambda=\\ln{(2)}/t_{1/2}$ "
   ]
  },
  {
   "cell_type": "code",
   "execution_count": 333,
   "id": "b4e07ff9",
   "metadata": {},
   "outputs": [],
   "source": [
    "ll=(np.log(2)*np.ones(len(th))/th)"
   ]
  },
  {
   "cell_type": "code",
   "execution_count": 334,
   "id": "54cd3f50",
   "metadata": {},
   "outputs": [
    {
     "data": {
      "text/plain": [
       "array([1.82815968e+00, 1.38214792e-01, 3.10828332e-02, 1.33042886e+11,\n",
       "       1.83034769e+04, 1.35910146e+04, 1.17496513e+05, 6.61307916e+01,\n",
       "       4.33216988e-04, 9.19537252e-06, 2.82341010e-06, 9.07498273e+02,\n",
       "       1.04968226e+01, 1.55135895e-10])"
      ]
     },
     "execution_count": 334,
     "metadata": {},
     "output_type": "execute_result"
    }
   ],
   "source": [
    "ll"
   ]
  },
  {
   "cell_type": "code",
   "execution_count": 113,
   "id": "f6ec3799",
   "metadata": {},
   "outputs": [
    {
     "data": {
      "text/plain": [
       "array([1.55135895e-10, 1.04968226e+01, 9.07498273e+02, 2.82341010e-06,\n",
       "       9.19537252e-06, 4.33216988e-04, 6.61307916e+01, 1.17496513e+05,\n",
       "       1.35910146e+04, 1.83034769e+04, 1.33042886e+11, 3.10828332e-02,\n",
       "       1.38214792e-01, 1.82815968e+00])"
      ]
     },
     "execution_count": 113,
     "metadata": {},
     "output_type": "execute_result"
    }
   ],
   "source": [
    "ll[::-1]"
   ]
  },
  {
   "cell_type": "markdown",
   "id": "f7c4d208",
   "metadata": {},
   "source": [
    "I defined the routine ff to introduce the ODEs related to the decay of the elements from $U_{238}$ to $Pb_{206}$. Then, every dndt in the routine are similar to the intermediate elements and just decay for $U_{238}$ and just increase in the stable $Pb_{206}$:\n",
    "\n",
    "$$\\frac{dN_{U_{238}}}{dt}=-\\lambda_{U_{238}}N_{U_{238}}$$\n",
    "$$\\frac{dN_{Th_{234}}}{dt}=-\\lambda_{Th_{234}}N_{Th_{234}}+\\lambda_{U_{238}}N_{U_{238}}$$\n",
    "$$\\frac{dN_{Pa_{234}}}{dt}=-\\lambda_{Pa_{234}}N_{Pa_{234}}+\\lambda_{Th_{234}}N_{Th_{234}}$$\n",
    "$$...$$\n",
    "$$\\frac{dN_{Pb_{206}}}{dt}=\\lambda_{Po_{210}}N_{Po_{210}}$$\n",
    "\n",
    "In the input of the routine I fixed l=ll[::-1] because the half-lifes and the constant were in the order from $Pb_{206}$ to $U_{238}$, while the equations were fixed as described above."
   ]
  },
  {
   "cell_type": "code",
   "execution_count": 335,
   "id": "5ec6cde2",
   "metadata": {},
   "outputs": [],
   "source": [
    "def ff(t,n,l=ll[::-1]):\n",
    "    dndt=np.zeros(len(l)+1)\n",
    "    dndt[0]=-l[0]*n[0]\n",
    "    for i in range(1,len(l)):\n",
    "        dndt[i]=-l[i]*n[i]+l[i-1]*n[i-1]\n",
    "    dndt[len(l)]=l[len(l)-1]*n[len(l)-1]\n",
    "    return dndt\n",
    "    #dndt[1]=-l[1]n[1]+l[0]n[0]"
   ]
  },
  {
   "cell_type": "markdown",
   "id": "f56b83ec",
   "metadata": {},
   "source": [
    "We must define that the fraction of $U_{238}$ should be 1 for the initial time and 0 for the other elements."
   ]
  },
  {
   "cell_type": "code",
   "execution_count": 336,
   "id": "5a277631",
   "metadata": {},
   "outputs": [],
   "source": [
    "n0=np.array([1]+[0]*len(ll))"
   ]
  },
  {
   "cell_type": "code",
   "execution_count": 337,
   "id": "02c8fad2",
   "metadata": {},
   "outputs": [
    {
     "data": {
      "text/plain": [
       "array([1, 0, 0, 0, 0, 0, 0, 0, 0, 0, 0, 0, 0, 0, 0])"
      ]
     },
     "execution_count": 337,
     "metadata": {},
     "output_type": "execute_result"
    }
   ],
   "source": [
    "n0"
   ]
  },
  {
   "cell_type": "markdown",
   "id": "03269136",
   "metadata": {},
   "source": [
    "t0 is the array with the integration time from $0$ to $10^{10}$."
   ]
  },
  {
   "cell_type": "code",
   "execution_count": 230,
   "id": "252d1fc3",
   "metadata": {},
   "outputs": [],
   "source": [
    "t0=[0,1e10]"
   ]
  },
  {
   "cell_type": "markdown",
   "id": "ed57b05b",
   "metadata": {},
   "source": [
    "I used the implicit method of integration of integrate.solve_ivp from scipy since the time interval of integration is very large."
   ]
  },
  {
   "cell_type": "code",
   "execution_count": 338,
   "id": "90386638",
   "metadata": {},
   "outputs": [],
   "source": [
    "from scipy import integrate"
   ]
  },
  {
   "cell_type": "code",
   "execution_count": 340,
   "id": "f82dbb05",
   "metadata": {},
   "outputs": [],
   "source": [
    "ans_stiff=integrate.solve_ivp(ff,t0,n0,method='Radau')"
   ]
  },
  {
   "cell_type": "markdown",
   "id": "69ef0031",
   "metadata": {},
   "source": [
    "ans_stiff.t are the time steps used in the integration, while ans_stiff.y are the solution for every $N$."
   ]
  },
  {
   "cell_type": "code",
   "execution_count": 341,
   "id": "c78c4a1f",
   "metadata": {},
   "outputs": [
    {
     "data": {
      "text/plain": [
       "array([0.00000000e+00, 2.02507037e+00, 2.22757741e+01, 2.24782811e+02,\n",
       "       2.24985318e+03, 2.25005569e+04, 2.25007594e+05, 6.51844652e+05,\n",
       "       1.48408887e+06, 2.75857217e+06, 5.54151454e+06, 1.59917738e+07,\n",
       "       8.64570005e+07, 7.91109268e+08, 3.88581261e+09, 8.58372893e+09,\n",
       "       1.00000000e+10])"
      ]
     },
     "execution_count": 341,
     "metadata": {},
     "output_type": "execute_result"
    }
   ],
   "source": [
    "ans_stiff.t"
   ]
  },
  {
   "cell_type": "code",
   "execution_count": 342,
   "id": "e02e38b4",
   "metadata": {},
   "outputs": [
    {
     "data": {
      "text/plain": [
       "array([[1.00000000e+00, 1.00000000e+00, 9.99999997e-01, 9.99999965e-01,\n",
       "        9.99999651e-01, 9.99996509e-01, 9.99965094e-01, 9.99898881e-01,\n",
       "        9.99769791e-01, 9.99572138e-01, 9.99140682e-01, 9.97522177e-01,\n",
       "        9.86676964e-01, 8.84502937e-01, 5.47262098e-01, 2.64048082e-01,\n",
       "        2.11964064e-01],\n",
       "       [0.00000000e+00, 1.38562853e-11, 1.47672959e-11, 1.47793023e-11,\n",
       "        1.47793144e-11, 1.47792680e-11, 1.47788037e-11, 1.47778251e-11,\n",
       "        1.47759173e-11, 1.47729961e-11, 1.47666195e-11, 1.47426991e-11,\n",
       "        1.45824142e-11, 1.30723516e-11, 8.08816146e-12, 3.90245099e-12,\n",
       "        3.13268464e-12],\n",
       "       [0.00000000e+00, 1.60150743e-13, 1.70808268e-13, 1.70948768e-13,\n",
       "        1.70948911e-13, 1.70948374e-13, 1.70943003e-13, 1.70931684e-13,\n",
       "        1.70909616e-13, 1.70875828e-13, 1.70802071e-13, 1.70525389e-13,\n",
       "        1.68671411e-13, 1.51204867e-13, 9.35538923e-14, 4.51387478e-14,\n",
       "        3.62350385e-14],\n",
       "       [0.00000000e+00, 3.00143853e-10, 3.44072632e-09, 3.48458779e-08,\n",
       "        3.47911842e-07, 3.38205783e-06, 2.58360678e-05, 4.62172758e-05,\n",
       "        5.40874176e-05, 5.48957319e-05, 5.49008544e-05, 5.48130795e-05,\n",
       "        5.42172114e-05, 4.86028208e-05, 3.00716714e-05, 1.45092583e-05,\n",
       "        1.16472778e-05],\n",
       "       [0.00000000e+00, 8.16409001e-16, 1.07727223e-13, 1.10463598e-11,\n",
       "        1.09854306e-09, 1.01413251e-07, 4.92142242e-06, 1.30323766e-05,\n",
       "        1.64932454e-05, 1.68518206e-05, 1.68572549e-05, 1.68304576e-05,\n",
       "        1.66475043e-05, 1.49235945e-05, 9.23356754e-06, 4.45509712e-06,\n",
       "        3.57632021e-06],\n",
       "       [0.00000000e+00, 4.84941063e-21, 7.30645149e-18, 7.42760525e-15,\n",
       "        6.04881011e-12, 1.76817675e-09, 1.03101850e-07, 2.76097309e-07,\n",
       "        3.50030404e-07, 3.57691497e-07, 3.57808595e-07, 3.57239871e-07,\n",
       "        3.53356547e-07, 3.16765186e-07, 1.95989830e-07, 9.45629869e-08,\n",
       "        7.59102465e-08],\n",
       "       [0.00000000e+00, 3.10361915e-26, 4.77662385e-23, 4.86478454e-20,\n",
       "        3.96244809e-17, 1.15831535e-14, 6.75411076e-13, 1.80868912e-12,\n",
       "        2.29301833e-12, 2.34320548e-12, 2.34397258e-12, 2.34024691e-12,\n",
       "        2.31480760e-12, 2.07510082e-12, 1.28391210e-12, 6.19473794e-13,\n",
       "        4.97281335e-13],\n",
       "       [0.00000000e+00, 1.74679283e-29, 2.68843342e-26, 2.73805586e-23,\n",
       "        2.23019236e-20, 6.51936889e-18, 3.80142933e-16, 1.01798802e-15,\n",
       "        1.29058397e-15, 1.31883091e-15, 1.31926265e-15, 1.31716573e-15,\n",
       "        1.30284767e-15, 1.16793304e-15, 7.22626751e-16, 3.48659643e-16,\n",
       "        2.79885823e-16],\n",
       "       [0.00000000e+00, 1.50995732e-28, 2.32417092e-25, 2.36709114e-22,\n",
       "        1.92803709e-19, 5.63609951e-17, 3.28639697e-15, 8.80067065e-15,\n",
       "        1.11573066e-14, 1.14015059e-14, 1.14052384e-14, 1.13871102e-14,\n",
       "        1.12633283e-14, 1.00969695e-14, 6.24722482e-15, 3.01421885e-15,\n",
       "        2.41965808e-15],\n",
       "       [0.00000000e+00, 1.12110413e-28, 1.72577088e-25, 1.75765223e-22,\n",
       "        1.43163938e-19, 4.18501417e-17, 2.44027237e-15, 6.53482634e-15,\n",
       "        8.28471648e-15, 8.46604356e-15, 8.46881510e-15, 8.45535422e-15,\n",
       "        8.36344151e-15, 7.49737659e-15, 4.63879753e-15, 2.23816996e-15,\n",
       "        1.79668641e-15],\n",
       "       [0.00000000e+00, 1.54236759e-35, 2.37424252e-32, 2.41810352e-29,\n",
       "        1.96958885e-26, 5.75756532e-24, 3.35722342e-22, 8.99033742e-22,\n",
       "        1.13977622e-21, 1.16472243e-21, 1.16510373e-21, 1.16325184e-21,\n",
       "        1.15060687e-21, 1.03145733e-21, 6.38186126e-22, 3.07917948e-22,\n",
       "        2.47180510e-22],\n",
       "       [0.00000000e+00, 9.76611372e-25, 1.53581717e-20, 7.01395596e-17,\n",
       "        8.10307666e-14, 2.45693592e-11, 1.43671787e-09, 3.84800418e-09,\n",
       "        4.87853870e-09, 4.98532492e-09, 4.98695731e-09, 4.97903073e-09,\n",
       "        4.92490689e-09, 4.41491480e-09, 2.73160826e-09, 1.31797164e-09,\n",
       "        1.05799907e-09],\n",
       "       [0.00000000e+00, 1.11739397e-26, 1.39354237e-21, 1.42040759e-17,\n",
       "        1.80582367e-14, 5.52158128e-12, 3.23087100e-10, 8.65364389e-10,\n",
       "        1.09712378e-09, 1.12113920e-09, 1.12150632e-09, 1.11972373e-09,\n",
       "        1.10755193e-09, 9.92860885e-10, 6.14305626e-10, 2.96395864e-10,\n",
       "        2.37931180e-10],\n",
       "       [0.00000000e+00, 3.26067306e-28, 9.45193554e-23, 1.06495409e-18,\n",
       "        1.36432073e-15, 4.17427876e-13, 2.44263547e-11, 6.54243206e-11,\n",
       "        8.29461074e-11, 8.47617537e-11, 8.47895095e-11, 8.46547398e-11,\n",
       "        8.37345127e-11, 7.50634980e-11, 4.64434946e-11, 2.24084871e-11,\n",
       "        1.79883677e-11],\n",
       "       [0.00000000e+00, 2.26820542e-28, 6.66195609e-22, 9.61897502e-17,\n",
       "        1.44308413e-12, 5.35321808e-09, 4.04375344e-06, 4.15888455e-05,\n",
       "        1.59272185e-04, 3.55750552e-04, 7.87196266e-04, 2.40581629e-03,\n",
       "        1.32518121e-02, 1.15433214e-01, 4.52698397e-01, 7.35932858e-01,\n",
       "        7.88020635e-01]])"
      ]
     },
     "execution_count": 342,
     "metadata": {},
     "output_type": "execute_result"
    }
   ],
   "source": [
    "ans_stiff.y"
   ]
  },
  {
   "cell_type": "code",
   "execution_count": 347,
   "id": "0b936717",
   "metadata": {},
   "outputs": [
    {
     "data": {
      "image/png": "[encoded data removed]",
      "text/plain": [
       "<Figure size 432x288 with 1 Axes>"
      ]
     },
     "metadata": {
      "needs_background": "light"
     },
     "output_type": "display_data"
    }
   ],
   "source": [
    "plt.plot(ans_stiff.t,ans_stiff.y[0],label='$U_{238}$')\n",
    "plt.plot(ans_stiff.t,ans_stiff.y[-1],label='$Pb_{206}$')\n",
    "plt.xlabel('t')\n",
    "plt.ylabel('N')\n",
    "plt.legend()\n",
    "plt.show()"
   ]
  },
  {
   "cell_type": "code",
   "execution_count": 349,
   "id": "a6228ba1",
   "metadata": {},
   "outputs": [
    {
     "data": {
      "image/png": "[encoded data removed]",
      "text/plain": [
       "<Figure size 432x288 with 1 Axes>"
      ]
     },
     "metadata": {
      "needs_background": "light"
     },
     "output_type": "display_data"
    }
   ],
   "source": [
    "plt.plot(ans_stiff.t,ans_stiff.y[-1]/ans_stiff.y[0],'g')\n",
    "plt.xlabel('t')\n",
    "plt.ylabel('$Pb_{206}/U_{238}$ ratio')\n",
    "plt.show()"
   ]
  },
  {
   "cell_type": "markdown",
   "id": "d13b6c0c",
   "metadata": {},
   "source": [
    "It makes sense that the $Pb_{206}$ increases almost at the same rate of the $U_{238}$ decay because all the intermediate elements decay quicker than $U_{238}$. We can see in the plot of $Pb_{206}/U_{238}$ ratio that almost at $0.5\\times10^{10}$ years the amount of $Pb_{206}$ have been increased until the same value of $U_{238}$, i.e, $Pb_{206}/U_{238}\\sim 1$; this also makes sense since the half-life of $U_{238}$ is about $t_{1/2}\\sim0.5\\times10^{10}$"
   ]
  },
  {
   "cell_type": "markdown",
   "id": "ddb1e1e3",
   "metadata": {},
   "source": [
    "Now we can see the ratio of $U_{234}$ and $Th_{230}$."
   ]
  },
  {
   "cell_type": "code",
   "execution_count": 353,
   "id": "25f2d3e8",
   "metadata": {},
   "outputs": [
    {
     "data": {
      "image/png": "[encoded data removed]",
      "text/plain": [
       "<Figure size 432x288 with 1 Axes>"
      ]
     },
     "metadata": {
      "needs_background": "light"
     },
     "output_type": "display_data"
    }
   ],
   "source": [
    "plt.plot(ans_stiff.t,ans_stiff.y[3],label='$U_{234}$')\n",
    "plt.plot(ans_stiff.t,ans_stiff.y[4],label='$Th_{230}$')\n",
    "plt.xlabel('t')\n",
    "plt.ylabel('N')\n",
    "#plt.yscale('log')\n",
    "plt.xlim(10**4,10**6)\n",
    "plt.legend()\n",
    "plt.show()"
   ]
  },
  {
   "cell_type": "code",
   "execution_count": 358,
   "id": "1f468a0d",
   "metadata": {},
   "outputs": [
    {
     "name": "stderr",
     "output_type": "stream",
     "text": [
      "C:\\Users\\Odette\\AppData\\Local\\Temp\\ipykernel_5516\\1670163967.py:1: RuntimeWarning: invalid value encountered in true_divide\n",
      "  plt.plot(ans_stiff.t,ans_stiff.y[3]/ans_stiff.y[4],'g')\n"
     ]
    },
    {
     "data": {
      "image/png": "[encoded data removed]",
      "text/plain": [
       "<Figure size 432x288 with 1 Axes>"
      ]
     },
     "metadata": {
      "needs_background": "light"
     },
     "output_type": "display_data"
    }
   ],
   "source": [
    "plt.plot(ans_stiff.t,ans_stiff.y[3]/ans_stiff.y[4],'g')\n",
    "plt.xlabel('t')\n",
    "plt.ylabel('$U_{234}/Th_{230}$ ratio')\n",
    "plt.xlim(10**4,10**6)\n",
    "plt.ylim(0,9)\n",
    "plt.show()"
   ]
  },
  {
   "cell_type": "markdown",
   "id": "6daff935",
   "metadata": {},
   "source": [
    "We can see that the $U_{234}$ is reduced while the $Th_{230}$ increases. Then for smaller ratios of $U_{234}/Th_{230}$ the rocks will be older. "
   ]
  }
 ],
 "metadata": {
  "kernelspec": {
   "display_name": "Python 3 (ipykernel)",
   "language": "python",
   "name": "python3"
  },
  "language_info": {
   "codemirror_mode": {
    "name": "ipython",
    "version": 3
   },
   "file_extension": ".py",
   "mimetype": "text/x-python",
   "name": "python",
   "nbconvert_exporter": "python",
   "pygments_lexer": "ipython3",
   "version": "3.9.12"
  }
 },
 "nbformat": 4,
 "nbformat_minor": 5
}
